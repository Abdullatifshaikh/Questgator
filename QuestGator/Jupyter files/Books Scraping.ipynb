{
 "cells": [
  {
   "cell_type": "markdown",
   "id": "1a8ad5de",
   "metadata": {},
   "source": [
    "# Book Searching "
   ]
  },
  {
   "cell_type": "markdown",
   "id": "6abd5e4e",
   "metadata": {},
   "source": [
    "Imporing libraries to be used:"
   ]
  },
  {
   "cell_type": "code",
   "execution_count": 1,
   "id": "849c9edd",
   "metadata": {},
   "outputs": [],
   "source": [
    "import bs4 as BeautifulSoup "
   ]
  },
  {
   "cell_type": "code",
   "execution_count": 2,
   "id": "b4faa82b",
   "metadata": {},
   "outputs": [],
   "source": [
    "import requests"
   ]
  },
  {
   "cell_type": "markdown",
   "id": "78fc39a9",
   "metadata": {},
   "source": [
    "Function to scrape books from pdf drive "
   ]
  },
  {
   "cell_type": "code",
   "execution_count": 7,
   "id": "73431ba2",
   "metadata": {},
   "outputs": [],
   "source": [
    "def Books(query):\n",
    "    import requests\n",
    "    from bs4 import BeautifulSoup\n",
    "\n",
    "    # GEtting news from Times of India\n",
    "    USER_AGENT = \"Mozilla/5.0 (X11; Linux x86_64) AppleWebKit/537.36 (KHTML, like Gecko) Chrome/44.0.2403.157 Safari/537.36\"\n",
    "    LANGUAGE = \"en-US,en;q=0.5\"\n",
    "    session = requests.Session()\n",
    "    session.headers['User-Agent'] = USER_AGENT\n",
    "    session.headers['Accept-Language'] = LANGUAGE\n",
    "    session.headers['Content-Language'] = LANGUAGE\n",
    "    name = 'pdfdrive'\n",
    "    x=''\n",
    "    url2 = 'https://www.pdfdrive.com/' + x\n",
    "    hello = session.get(url2).content\n",
    "    data = dict()\n",
    "    counter = 0\n",
    "\n",
    "    soup = BeautifulSoup(hello, 'html.parser')\n",
    "\n",
    "    books = soup.findAll(\"div\", {'class': 'file-right'})\n",
    "\n",
    "    for i in books:\n",
    "        temp = dict()\n",
    "        temp['title'] = i.find('h2').text\n",
    "        temp['desc'] = i.find('div', {'class': 'file-info'}).text\n",
    "        temp['url'] = i.a['href']\n",
    "        # temp['desc']=i.text.replace('\\n',\" \").replace(\"\\xa0\",' ')\n",
    "        data[counter] = temp\n",
    "        counter = counter + 1\n",
    "\n",
    "    return data\n"
   ]
  },
  {
   "cell_type": "markdown",
   "id": "1ec36f71",
   "metadata": {},
   "source": [
    "Calling the Function and Printing the output"
   ]
  },
  {
   "cell_type": "code",
   "execution_count": 8,
   "id": "32dce714",
   "metadata": {},
   "outputs": [
    {
     "name": "stdout",
     "output_type": "stream",
     "text": [
      "{0: {'title': 'Living in the Light: A guide to personal transformation', 'desc': '\\n258 Pages·2001·2.74 MB·638,162 Downloads \\n', 'url': '/living-in-the-light-a-guide-to-personal-transformation-e10172273.html'}, 1: {'title': 'Give and Take: WHY HELPING OTHERS DRIVES OUR SUCCESS', 'desc': '\\n260 Pages·2011·1.57 MB·698,889 Downloads \\n', 'url': '/give-and-take-why-helping-others-drives-our-success-e58864799.html'}, 2: {'title': 'Braiding Sweetgrass: Indigenous Wisdom, Scientific Knowledge and the Teachings of Plants', 'desc': '\\n473 Pages·2017·2.03 MB·144,813 Downloads \\n', 'url': '/braiding-sweetgrass-indigenous-wisdom-scientific-knowledge-and-the-teachings-of-plants-e60737077.html'}, 3: {'title': 'Resisting Happiness: A True Story about Why We Sabotage Ourselves', 'desc': '\\n32 Pages·2017·258 KB·437,996 Downloads \\n', 'url': '/resisting-happiness-a-true-story-about-why-we-sabotage-ourselves-e39563520.html'}, 4: {'title': 'The Purpose-Driven Life: What on Earth Am I Here For?', 'desc': '\\n2003·3.65 MB·355,784 Downloads·New! \\n', 'url': '/the-purpose-driven-life-what-on-earth-am-i-here-for-e185720921.html'}, 5: {'title': 'I am Malala: The Story of the Girl Who Stood Up for Education', 'desc': '\\n195 Pages·2012·3.04 MB·412,153 Downloads \\n', 'url': '/i-am-malala-the-story-of-the-girl-who-stood-up-for-education-e14796117.html'}, 6: {'title': 'Start Where You Are: A Guide to Compassionate Living', 'desc': '\\n242 Pages·2007·1022 KB·253,499 Downloads \\n', 'url': '/start-where-you-are-a-guide-to-compassionate-living-e60375000.html'}, 7: {'title': \"No-Drama Discipline: The Whole-Brain Way to Calm the Chaos and Nurture Your Child's Developing Mind\", 'desc': '\\n345 Pages·2017·13.27 MB·174,095 Downloads \\n', 'url': '/no-drama-discipline-the-whole-brain-way-to-calm-the-chaos-and-nurture-your-childs-developing-mind-e60737124.html'}, 8: {'title': '1-2-3 Magic: 3-Step Discipline for Calm, Effective, and Happy Parenting', 'desc': '\\n322 Pages·2017·6.23 MB·158,276 Downloads \\n', 'url': '/1-2-3-magic-3-step-discipline-for-calm-effective-and-happy-parenting-e60737129.html'}, 9: {'title': 'The Explosive Child: A New Approach for Understanding and Parenting Easily Frustrated, Chronically I', 'desc': '\\n318 Pages·2010·714 KB·74,044 Downloads \\n', 'url': '/the-explosive-child-a-new-approach-for-understanding-and-parenting-easily-frustrated-chronically-i-e60737125.html'}, 10: {'title': 'The Gifts of Imperfection: Embrace Who You Are', 'desc': '\\n98 Pages·2015·1.1 MB·396,631 Downloads \\n', 'url': '/the-gifts-of-imperfection-embrace-who-you-are-e60365102.html'}, 11: {'title': 'The Choice: Embrace the Possible', 'desc': '\\n359 Pages·2017·1.99 MB·102,384 Downloads \\n', 'url': '/the-choice-embrace-the-possible-e61378075.html'}, 12: {'title': 'Boundaries: When to Say Yes, How to Say No to Take Control of Your Life', 'desc': '\\n357 Pages·2001·1.9 MB·546,354 Downloads \\n', 'url': '/boundaries-when-to-say-yes-how-to-say-no-to-take-control-of-your-life-e60363043.html'}, 13: {'title': 'The 5 Second Rule: Transform your Life, Work, and Confidence with Everyday Courage', 'desc': '\\n252 Pages·2017·11.94 MB·861,474 Downloads \\n', 'url': '/the-5-second-rule-transform-your-life-work-and-confidence-with-everyday-courage-e60374999.html'}, 14: {'title': 'The Daily Stoic: 366 Meditations on Wisdom, Perseverance, and the Art of Living', 'desc': '\\n406 Pages·2017·2.6 MB·336,266 Downloads \\n', 'url': '/the-daily-stoic-366-meditations-on-wisdom-perseverance-and-the-art-of-living-e61378067.html'}}\n"
     ]
    }
   ],
   "source": [
    "query = 'time management'\n",
    "print(default(query))"
   ]
  },
  {
   "cell_type": "code",
   "execution_count": null,
   "id": "669f0648",
   "metadata": {},
   "outputs": [],
   "source": []
  }
 ],
 "metadata": {
  "kernelspec": {
   "display_name": "Python 3 (ipykernel)",
   "language": "python",
   "name": "python3"
  },
  "language_info": {
   "codemirror_mode": {
    "name": "ipython",
    "version": 3
   },
   "file_extension": ".py",
   "mimetype": "text/x-python",
   "name": "python",
   "nbconvert_exporter": "python",
   "pygments_lexer": "ipython3",
   "version": "3.8.5"
  }
 },
 "nbformat": 4,
 "nbformat_minor": 5
}
