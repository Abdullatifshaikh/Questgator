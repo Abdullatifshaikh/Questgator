{
 "cells": [
  {
   "cell_type": "markdown",
   "id": "3256e2df",
   "metadata": {},
   "source": [
    "# Meta Search Engine"
   ]
  },
  {
   "cell_type": "markdown",
   "id": "1aafed86",
   "metadata": {},
   "source": [
    "Step 1: Installing BS4 and request for scraping data from web pages."
   ]
  },
  {
   "cell_type": "code",
   "execution_count": 3,
   "id": "1cb930e1",
   "metadata": {},
   "outputs": [
    {
     "name": "stdout",
     "output_type": "stream",
     "text": [
      "Collecting bs4\n",
      "  Using cached bs4-0.0.1.tar.gz (1.1 kB)\n",
      "Collecting requests\n",
      "  Downloading requests-2.26.0-py2.py3-none-any.whl (62 kB)\n",
      "Collecting beautifulsoup4\n",
      "  Using cached beautifulsoup4-4.9.3-py3-none-any.whl (115 kB)\n",
      "Collecting charset-normalizer~=2.0.0\n",
      "  Downloading charset_normalizer-2.0.4-py3-none-any.whl (36 kB)\n",
      "Collecting idna<4,>=2.5\n",
      "  Using cached idna-3.2-py3-none-any.whl (59 kB)\n",
      "Collecting urllib3<1.27,>=1.21.1\n",
      "  Using cached urllib3-1.26.6-py2.py3-none-any.whl (138 kB)\n",
      "Collecting certifi>=2017.4.17\n",
      "  Using cached certifi-2021.5.30-py2.py3-none-any.whl (145 kB)\n",
      "Collecting soupsieve>1.2\n",
      "  Using cached soupsieve-2.2.1-py3-none-any.whl (33 kB)\n",
      "Using legacy 'setup.py install' for bs4, since package 'wheel' is not installed.\n",
      "Installing collected packages: soupsieve, urllib3, idna, charset-normalizer, certifi, beautifulsoup4, requests, bs4\n",
      "    Running setup.py install for bs4: started\n",
      "    Running setup.py install for bs4: finished with status 'done'\n",
      "Successfully installed beautifulsoup4-4.9.3 bs4-0.0.1 certifi-2021.5.30 charset-normalizer-2.0.4 idna-3.2 requests-2.26.0 soupsieve-2.2.1 urllib3-1.26.6\n",
      "Note: you may need to restart the kernel to use updated packages.\n"
     ]
    }
   ],
   "source": [
    "pip install bs4 requests"
   ]
  },
  {
   "cell_type": "markdown",
   "id": "f02e6db2",
   "metadata": {},
   "source": [
    "step 2: Scraping data from metacrawler.com according to our queries."
   ]
  },
  {
   "cell_type": "code",
   "execution_count": 4,
   "id": "ae3e9691",
   "metadata": {},
   "outputs": [],
   "source": [
    "def metacrawler(q):\n",
    "    import requests\n",
    "    from bs4 import BeautifulSoup\n",
    "\n",
    "    # GEtting news from Times of India\n",
    "    USER_AGENT = \"Mozilla/5.0 (X11; Linux x86_64) AppleWebKit/537.36 (KHTML, like Gecko) Chrome/44.0.2403.157 Safari/537.36\"\n",
    "    LANGUAGE = \"en-US,en;q=0.5\"\n",
    "    session = requests.Session()\n",
    "    session.headers['User-Agent'] = USER_AGENT\n",
    "    session.headers['Accept-Language'] = LANGUAGE\n",
    "    session.headers['Content-Language'] = LANGUAGE\n",
    "    name = 'metacrawler'\n",
    "    url = \"https://www.metacrawler.com/serp?q=\" + q\n",
    "    hello = session.get(url).content\n",
    "    data = dict()\n",
    "    counter = 0\n",
    "\n",
    "\n",
    "    soup = BeautifulSoup(hello, 'html.parser')\n",
    "    searches = soup.findAll(\"div\",{'class':'web-bing__result'})\n",
    "    for i in searches:\n",
    "        temp = dict()\n",
    "        temp['title']=i.a.text\n",
    "        temp['url']=i.a['href']\n",
    "        temp['desc']=i.findAll(\"span\")[1].text\n",
    "        data[counter] = temp\n",
    "        counter = counter + 1\n",
    "\n",
    "    return data\n"
   ]
  },
  {
   "cell_type": "markdown",
   "id": "602a8ad2",
   "metadata": {},
   "source": [
    "step 3: Scraping data from ask.com according to our queries."
   ]
  },
  {
   "cell_type": "code",
   "execution_count": 5,
   "id": "0971c7ca",
   "metadata": {},
   "outputs": [],
   "source": [
    "def ask(q):\n",
    "    import requests\n",
    "    from bs4 import BeautifulSoup\n",
    "\n",
    "    # GEtting news from Times of India\n",
    "    USER_AGENT = \"Mozilla/5.0 (X11; Linux x86_64) AppleWebKit/537.36 (KHTML, like Gecko) Chrome/44.0.2403.157 Safari/537.36\"\n",
    "    LANGUAGE = \"en-US,en;q=0.5\"\n",
    "    session = requests.Session()\n",
    "    session.headers['User-Agent'] = USER_AGENT\n",
    "    session.headers['Accept-Language'] = LANGUAGE\n",
    "    session.headers['Content-Language'] = LANGUAGE\n",
    "    name = 'ask'\n",
    "    url = \"https://www.ask.com/web?q=\" + q\n",
    "    hello = session.get(url).content\n",
    "    data = dict()\n",
    "    counter = 0\n",
    "\n",
    "    soup = BeautifulSoup(hello, 'html.parser')\n",
    "    searches = soup.findAll(\"div\", {'class': 'PartialSearchResults-item'})\n",
    "\n",
    "\n",
    "    for i in searches:\n",
    "        temp = dict()\n",
    "        temp['title']=i.findAll(\"div\")[0].a.text\n",
    "        temp['url']=i.findAll(\"div\")[0].a['href']\n",
    "        temp['desc']=i.find(\"p\",{'class':'PartialSearchResults-item-abstract'}).text\n",
    "        data[counter] = temp\n",
    "        counter=counter+1\n",
    "\n",
    "    return data\n"
   ]
  },
  {
   "cell_type": "markdown",
   "id": "1b6eaac9",
   "metadata": {},
   "source": [
    "step 4: Scraping data from metacrawler.com according to our queries."
   ]
  },
  {
   "cell_type": "code",
   "execution_count": 6,
   "id": "6bcc6833",
   "metadata": {},
   "outputs": [],
   "source": [
    "def dogpile(q):\n",
    "    import requests\n",
    "    from bs4 import BeautifulSoup\n",
    "\n",
    "    # GEtting news from Times of India\n",
    "    USER_AGENT = \"Mozilla/5.0 (X11; Linux x86_64) AppleWebKit/537.36 (KHTML, like Gecko) Chrome/44.0.2403.157 Safari/537.36\"\n",
    "    LANGUAGE = \"en-US,en;q=0.5\"\n",
    "    session = requests.Session()\n",
    "    session.headers['User-Agent'] = USER_AGENT\n",
    "    session.headers['Accept-Language'] = LANGUAGE\n",
    "    session.headers['Content-Language'] = LANGUAGE\n",
    "    name = 'dogpile'\n",
    "    url = \"https://www.dogpile.com/serp?q=\" + q\n",
    "\n",
    "    hello = session.get(url).content\n",
    "    data = dict()\n",
    "    counter = 0\n",
    "\n",
    "    soup = BeautifulSoup(hello, 'html.parser')\n",
    "    searches = soup.findAll(\"div\", {'class': 'web-bing__result'})\n",
    "\n",
    "    for i in searches:\n",
    "        temp = dict()\n",
    "        temp['title']=i.a.text\n",
    "        temp['url'] = i.a['href']\n",
    "        temp['desc'] = i.findAll(\"span\")[1].text\n",
    "        data[counter] = temp\n",
    "        counter = counter + 1\n",
    "\n",
    "\n",
    "    return data\n"
   ]
  },
  {
   "cell_type": "markdown",
   "id": "a08de1d6",
   "metadata": {},
   "source": [
    "step 5: defining function to search from all search egine and filtering them for the output in dictionary form."
   ]
  },
  {
   "cell_type": "code",
   "execution_count": 7,
   "id": "661a2be4",
   "metadata": {},
   "outputs": [],
   "source": [
    "def search_query(query):\n",
    "    data = dict()\n",
    "    data0 = metacrawler(query)\n",
    "    data1 = ask(query)\n",
    "    data2 = dogpile(query)\n",
    "    combined = dict()\n",
    "    counter = 0\n",
    "    for i in range(len(data0)):\n",
    "        data[counter] = data0[i]\n",
    "        counter = counter + 1\n",
    "    for i in range(len(data1)):\n",
    "        data[counter] = data1[i]\n",
    "        counter = counter + 1\n",
    "    for i in range(len(data2)):\n",
    "        data[counter] = data2[i]\n",
    "        counter = counter + 1\n",
    "    counter = 0\n",
    "    filtered = dict()\n",
    "    for key, value in data.items():\n",
    "        if value not in filtered.values():\n",
    "            filtered[key] = value\n",
    "\n",
    "    return filtered\n"
   ]
  },
  {
   "cell_type": "markdown",
   "id": "612296d9",
   "metadata": {},
   "source": [
    "Calling the function with query and print the results."
   ]
  },
  {
   "cell_type": "code",
   "execution_count": 8,
   "id": "a8b50e00",
   "metadata": {},
   "outputs": [
    {
     "name": "stdout",
     "output_type": "stream",
     "text": [
      "{0: {'title': 'What is Metadata (with examples) - Data terminology', 'url': 'https://dataedo.com/kb/data-glossary/what-is-metadata', 'desc': 'What is Metadata (with examples) Metadata is simply data about data. It means it is a description and context of the data. It helps to organize, find and understand data. Here are a few real world examples of metadata:'}, 1: {'title': 'Metadata - Wikipedia', 'url': 'https://en.wikipedia.org/wiki/Metadata', 'desc': 'Metadata is \"data that provides information about other data\". In other words, it is \"data about data\". Many distinct types of metadata exist, including descriptive metadata, structural metadata, administrative metadata, reference metadata, statistical metadata and legal metadata.. Descriptive metadata is descriptive information about a resource.'}, 2: {'title': 'What Is Metadata and Why Is It as Important as the Data ...', 'url': 'https://www.opendatasoft.com/blog/2016/08/25/what-is-metadata-and-why-is-it-important-data', 'desc': 'Metadata can be explained in a few ways: Data that provide information about other data.; Metadata summarizes basic information about data, making finding & working with particular instances of data easier.; Metadata can be created manually to be more accurate, or automatically and contain more basic information.; We have a brand new article in the pipe for you: All you need to know about ...'}, 3: {'title': 'What is Metadata? | Harvard Law School', 'url': 'https://hls.harvard.edu/dept/its/what-is-metadata/', 'desc': 'Metadata is information stored within a document that is not evident by just looking at the file. It is an electronic “fingerprint” that automatically adds identifying characteristics, such as the creator or author of the file, the name of individuals who have accessed or edited the file, the location from which the file was accessed, and the amount of time spent editing the file.'}, 4: {'title': 'What is Meta Data - javatpoint', 'url': 'https://www.javatpoint.com/what-is-meta-data', 'desc': 'Metadata is data about the data or documentation about the information which is required by the users. In data warehousing, metadata is one of the essential aspects. Metadata includes the following: The location and descriptions of warehouse systems and components. Names, definitions, structures, and content of data-warehouse and end-users views.'}, 5: {'title': 'What Is Metadata? (Definition and Uses) - ThoughtCo', 'url': 'https://www.thoughtco.com/metadata-definition-and-examples-1019177', 'desc': \"Metadata is data about data. In other words, it's information that's used to describe the data that's contained in something like a web page, document, or file. Another way to think of metadata is as a short explanation or summary of what the data is. A simple example of metadata for a document might include a collection of information like the ...\"}, 6: {'title': 'What Is the Definition of Data Inconsistency?', 'url': 'https://www.reference.com/world-view/definition-data-inconsistency-5bc80c9fd30c5f1a?utm_content=params%3Ao%3D740005%26ad%3DdirN%26qo%3DserpIndex', 'desc': 'Data inconsistency occurs when similar data is kept in different formats in more than one file. When this happens, it is important to match the data between files. Sometimes, files duplicate some data. When information like names and addres...'}, 7: {'title': 'What is Meta Data? | Webopedia', 'url': 'https://www.webopedia.com/definitions/meta-data/', 'desc': 'Data about data. Meta data describes how and when and by whom a particular set of data was collected, and how the data is formatted. Meta data is Data about data. Meta data describes how and when and by whom a particular set of data was col...'}, 8: {'title': 'What is Meta? | Webopedia', 'url': 'https://www.webopedia.com/definitions/meta/', 'desc': 'In computer science, a common prefix that means \"about\". Webopedia is an online dictionary and Internet search engine for information technology and computing definitions. ADVERTISER DISCLOSURE: SOME OF THE PRODUCTS THAT APPEAR ON THIS SITE...'}, 9: {'title': 'This Google Data Viz Is So Meta, You Can’t Look Away', 'url': 'https://www.fastcompany.com/90152041/this-google-data-viz-is-so-meta-you-cant-look-away', 'desc': \"A data viz about data viz–based on Google search data. Meta, much? An award-winning team of journalists, designers, and videographers who tell brand stories through Fast Company's distinctive lens The future of innovation and technology in ...\"}, 10: {'title': 'A. Data | ASPE', 'url': 'https://aspe.hhs.gov/report/long-term-impact-adolescent-risky-behaviors-and-family-environment/data-0', 'desc': 'This study uses data from the National Longitudinal Survey of Youth--1979 cohort (NLSY79). The NLSY79 is a large, nationally representative, omnibus survey sponsored by the U.S. Bureau of Labor Statistics. 3 Over 12,000 youths ages 14-22 we...'}, 11: {'title': 'Data | CRDC', 'url': 'https://datacommons.cancer.gov/data', 'desc': 'Key Datasets The NCI CRDC provides access to a variety of open and controlled datasets from NCI programs and key external cancer programs.\\xa0Key datasets include: The NCI CRDC provides access to a variety of open and controlled datasets from N...'}, 12: {'title': 'WarMouse Meta Review - ExtremeTech', 'url': 'https://www.extremetech.com/computing/83810-warmouse-meta-review', 'desc': \"With 19 programmable buttons, the WarMouse Meta may be a dream for some gamers, but it's potentially complex enough to ... The relationship between the keyboard and the mouse has long been a rocky one, especially where PC gaming is concerne...\"}, 13: {'title': 'What is Metadata? Data About Data | Webopedia Guide', 'url': 'https://www.webopedia.com/insights/metadata-2/', 'desc': 'Data about data. That simple statement describes the essence of metadata. Data about data refers to the information used to describe specific content. Metadata is used to summarize basic information about existing data. In the technology sp...'}, 14: {'title': 'What is Meta Tag? | Webopedia', 'url': 'https://www.webopedia.com/definitions/meta-tag/', 'desc': 'A special HTML tag that provides information about a Web page. Unlike normal HTML tags, meta tags do not affect how the page is displayed. Instead, they A special HTML tag that provides information about a Web page. Unlike normal HTML tags,...'}, 15: {'title': \"That's So Meta(cognitive)! | edX\", 'url': 'https://www.edx.org/course/thats-so-metacognitive', 'desc': 'That’s so Meta(cognitive)! — investigates how explicitly teaching students metacognitive strategies helps them become more effective learners, able to integrate knowledge rather than just memorize isolated science facts and definitions. Tha...'}, 16: {'title': 'What is Meta Ad? | Webopedia', 'url': 'https://www.webopedia.com/definitions/meta-ad/', 'desc': 'Used in search engines, an advertisement displayed on the results page of a search, specific to the searched term. Used in search engines, an advertisement displayed on the results page of a search, specific to the searched term. Also refer...'}, 20: {'title': 'Metadata | Definition of Metadata by Merriam-Webster', 'url': 'https://www.merriam-webster.com/dictionary/metadata', 'desc': 'metadata: [noun, plural in form but singular or plural in construction] data that provides information about other data.'}, 24: {'title': 'What Is Metadata? the Data That Describes Data, Explained', 'url': 'https://www.businessinsider.com/what-is-metadata', 'desc': 'Metadata is a common type of data that exists nearly everywhere online. Metadata is a term for data that describes the attributes of another set of data. Metadata can determine much of what you ...'}}\n"
     ]
    }
   ],
   "source": [
    "query = \"meta data\"\n",
    "data = search_query(query)\n",
    "print(data)\n",
    "       \n"
   ]
  },
  {
   "cell_type": "code",
   "execution_count": null,
   "id": "eaa50d05",
   "metadata": {},
   "outputs": [],
   "source": []
  }
 ],
 "metadata": {
  "kernelspec": {
   "display_name": "Python 3 (ipykernel)",
   "language": "python",
   "name": "python3"
  },
  "language_info": {
   "codemirror_mode": {
    "name": "ipython",
    "version": 3
   },
   "file_extension": ".py",
   "mimetype": "text/x-python",
   "name": "python",
   "nbconvert_exporter": "python",
   "pygments_lexer": "ipython3",
   "version": "3.8.5"
  }
 },
 "nbformat": 4,
 "nbformat_minor": 5
}
