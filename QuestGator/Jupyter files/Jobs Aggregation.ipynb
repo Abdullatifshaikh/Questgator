{
 "cells": [
  {
   "cell_type": "code",
   "execution_count": null,
   "id": "ef60ea7d",
   "metadata": {},
   "outputs": [],
   "source": []
  },
  {
   "cell_type": "markdown",
   "id": "24394406",
   "metadata": {},
   "source": [
    "Importing Important Libraries bs4 and requests."
   ]
  },
  {
   "cell_type": "code",
   "execution_count": 1,
   "id": "e008eab4",
   "metadata": {},
   "outputs": [],
   "source": [
    "import bs4 as BeautifulSoup"
   ]
  },
  {
   "cell_type": "code",
   "execution_count": 2,
   "id": "90d88c8b",
   "metadata": {},
   "outputs": [],
   "source": [
    "import requests"
   ]
  },
  {
   "cell_type": "markdown",
   "id": "3c4b4223",
   "metadata": {},
   "source": [
    "Function to scrape jobs from jobz.pk"
   ]
  },
  {
   "cell_type": "code",
   "execution_count": 3,
   "id": "31652254",
   "metadata": {},
   "outputs": [],
   "source": [
    "def jobz_pk():\n",
    "    import requests\n",
    "    from bs4 import BeautifulSoup\n",
    "\n",
    "    # GEtting news from Times of India\n",
    "    USER_AGENT = \"Mozilla/5.0 (X11; Linux x86_64) AppleWebKit/537.36 (KHTML, like Gecko) Chrome/44.0.2403.157 Safari/537.36\"\n",
    "    LANGUAGE = \"en-US,en;q=0.5\"\n",
    "    session = requests.Session()\n",
    "    session.headers['User-Agent'] = USER_AGENT\n",
    "    session.headers['Accept-Language'] = LANGUAGE\n",
    "    session.headers['Content-Language'] = LANGUAGE\n",
    "    name = 'jobz.pk'\n",
    "    url = 'https://www.jobz.pk/'\n",
    "    html = session.get(url).content\n",
    "    data = dict()\n",
    "    counter = 0\n",
    "    soup = BeautifulSoup(html, 'html.parser')\n",
    "    table = soup.find('div',{'class':'first_big_4col'}).findAll('div',{'class':'row_container'})\n",
    "\n",
    "    for i in table:\n",
    "        div = i.findAll('div')\n",
    "        if counter >= 1:\n",
    "            temp = dict()\n",
    "            temp['title'] = div[0].text\n",
    "            temp['field'] = div[1].text\n",
    "            temp['city'] = div[2].div.text\n",
    "            temp['date'] = div[2].findAll('div')[1].text\n",
    "            temp['url'] = div[0].a['href']\n",
    "\n",
    "            data[counter - 1] = temp\n",
    "\n",
    "        counter = counter + 1\n",
    "\n",
    "    counter = 0\n",
    "    return data\n"
   ]
  },
  {
   "cell_type": "markdown",
   "id": "8dc35d5e",
   "metadata": {},
   "source": [
    "Function to scrape jobs from jobsalert.pk"
   ]
  },
  {
   "cell_type": "code",
   "execution_count": 4,
   "id": "ea44d87e",
   "metadata": {},
   "outputs": [],
   "source": [
    "\n",
    "def jobsalert_pk():\n",
    "    import requests\n",
    "    from bs4 import BeautifulSoup\n",
    "\n",
    "    # GEtting news from Times of India\n",
    "    USER_AGENT = \"Mozilla/5.0 (X11; Linux x86_64) AppleWebKit/537.36 (KHTML, like Gecko) Chrome/44.0.2403.157 Safari/537.36\"\n",
    "    LANGUAGE = \"en-US,en;q=0.5\"\n",
    "    session = requests.Session()\n",
    "    session.headers['User-Agent'] = USER_AGENT\n",
    "    session.headers['Accept-Language'] = LANGUAGE\n",
    "    session.headers['Content-Language'] = LANGUAGE\n",
    "    name = 'jobsalert.pk'\n",
    "    url = 'https://jobsalert.pk/'\n",
    "    html = session.get(url).content\n",
    "    data = dict()\n",
    "    counter = 0\n",
    "    soup = BeautifulSoup(html, 'html.parser')\n",
    "    table = soup.find('table',{'class':'table table-sm responsive table-striped table-hover-jobs'}).tbody.findAll('tr')\n",
    "    for i in table:\n",
    "        tr = i.findAll('td')\n",
    "        temp = dict()\n",
    "        temp['title'] = tr[1].text\n",
    "        temp['url'] = tr[1].a['href']\n",
    "        temp['posted'] = tr[0].text\n",
    "        temp['lastdate'] = tr[3].text\n",
    "        temp['newspaper'] = tr[2].text\n",
    "        data[counter]=temp\n",
    "        counter=counter+1\n",
    "    return data\n"
   ]
  },
  {
   "cell_type": "markdown",
   "id": "5183ac32",
   "metadata": {},
   "source": [
    "Function to scrape jobs from jobs.com.pk"
   ]
  },
  {
   "cell_type": "code",
   "execution_count": 5,
   "id": "0ae3cc5b",
   "metadata": {},
   "outputs": [],
   "source": [
    "def jobs_com_pk():\n",
    "    import requests\n",
    "    from bs4 import BeautifulSoup\n",
    "\n",
    "    # GEtting news from Times of India\n",
    "    USER_AGENT = \"Mozilla/5.0 (X11; Linux x86_64) AppleWebKit/537.36 (KHTML, like Gecko) Chrome/44.0.2403.157 Safari/537.36\"\n",
    "    LANGUAGE = \"en-US,en;q=0.5\"\n",
    "    session = requests.Session()\n",
    "    session.headers['User-Agent'] = USER_AGENT\n",
    "    session.headers['Accept-Language'] = LANGUAGE\n",
    "    session.headers['Content-Language'] = LANGUAGE\n",
    "    name = 'jobs.com.pk'\n",
    "    url = 'https://jobs.com.pk/'\n",
    "    html = session.get(url).content\n",
    "    soup = BeautifulSoup(html, 'html.parser')\n",
    "    table= soup.find('table',{'class':'table-jhp'})\n",
    "    all_data=table.tbody.findAll('tr')\n",
    "    data = dict()\n",
    "    counter = 0\n",
    "    for i in all_data:\n",
    "        temp = dict()\n",
    "        temp['title']= i.td.text\n",
    "        temp['url'] = i.td.a['href']\n",
    "        temp['desc']=i.findAll('td')[1].text\n",
    "        temp['date']=i.findAll('td')[2].text\n",
    "        data[counter]=temp\n",
    "        counter = counter +1\n",
    "\n",
    "    return data\n"
   ]
  },
  {
   "cell_type": "markdown",
   "id": "0a3517ff",
   "metadata": {},
   "source": [
    "Function to scrape jobs from pakistanjobsbank.pk"
   ]
  },
  {
   "cell_type": "code",
   "execution_count": 6,
   "id": "4681b760",
   "metadata": {},
   "outputs": [],
   "source": [
    "def pakistanjobsbank_pk():\n",
    "    import requests\n",
    "    from bs4 import BeautifulSoup\n",
    "\n",
    "    # GEtting news from Times of India\n",
    "    USER_AGENT = \"Mozilla/5.0 (X11; Linux x86_64) AppleWebKit/537.36 (KHTML, like Gecko) Chrome/44.0.2403.157 Safari/537.36\"\n",
    "    LANGUAGE = \"en-US,en;q=0.5\"\n",
    "    session = requests.Session()\n",
    "    session.headers['User-Agent'] = USER_AGENT\n",
    "    session.headers['Accept-Language'] = LANGUAGE\n",
    "    session.headers['Content-Language'] = LANGUAGE\n",
    "    name = 'pakistanjobsbank.com'\n",
    "    url = 'http://www.pakistanjobsbank.com//'\n",
    "    html = session.get(url).content\n",
    "    data = dict()\n",
    "    counter = 0\n",
    "    soup = BeautifulSoup(html, 'html.parser')\n",
    "    table = soup.find('table',{'class':'job-ads-list'}).tbody.findAll('tr',{'class':\"job-ad\"})\n",
    "    for i in table:\n",
    "        tr = i.findAll('td')\n",
    "        one = tr[0].findAll('div')\n",
    "        two = tr[1].ul.findAll('li')\n",
    "        temp = dict()\n",
    "        temp['posts'] = ''\n",
    "        for i in two:\n",
    "            temp['posts'] = temp['posts'] + \" // \"+ i.text\n",
    "        temp['title'] = tr[0].strong.text\n",
    "        temp['url'] = \"http://www.pakistanjobsbank.com\"+tr[0].strong.a['href']\n",
    "        temp['posted'] = one[0].text\n",
    "        temp['place'] = one[1].text\n",
    "        data[counter]=temp\n",
    "        counter=counter+1\n",
    "\n",
    "    return data\n"
   ]
  },
  {
   "cell_type": "markdown",
   "id": "1a729773",
   "metadata": {},
   "source": [
    "Calling the Function by setting web variable."
   ]
  },
  {
   "cell_type": "code",
   "execution_count": 8,
   "id": "35dd0302",
   "metadata": {},
   "outputs": [
    {
     "name": "stdout",
     "output_type": "stream",
     "text": [
      "{0: {'title': '\\nSecurity Guard & Security Supervisor Jobs 2021 in Islamabad\\n', 'field': '\\nSecurity Company ', 'city': 'Islamabad ', 'date': '01-Sep-2021', 'url': 'https://www.jobz.pk/security-guard-security-supervisor-jobs-2021-in-islamabad_jobs-444699.html'}, 1: {'title': '\\nQuran Teacher & Teacher Jobs 2021 in Multan\\n', 'field': '\\nPrivate School ', 'city': 'Multan ', 'date': '01-Sep-2021', 'url': 'https://www.jobz.pk/quran-teacher-teacher-jobs-2021-in-multan_jobs-444698.html'}, 2: {'title': '\\nComputer Operator & Receptionist Jobs 2021 in Multan\\n', 'field': '\\nPrivate Company ', 'city': 'Multan ', 'date': '01-Sep-2021', 'url': 'https://www.jobz.pk/computer-operator-receptionist-jobs-2021-in-multan_jobs-444697.html'}, 3: {'title': '\\nSecurity Executive & Security Guard Jobs 2021 in Lahore\\n', 'field': '\\nSecurity Company ', 'city': 'Lahore ', 'date': '01-Sep-2021', 'url': 'https://www.jobz.pk/security-executive-security-guard-jobs-2021-in-lahore_jobs-444696.html'}, 4: {'title': '\\nData Entry Operator & Computer Call Operator Jobs 2021\\n', 'field': '\\nPrivate Company ', 'city': 'Lahore ', 'date': '01-Sep-2021', 'url': 'https://www.jobz.pk/data-entry-operator-computer-call-operator-jobs-2021_jobs-444695.html'}, 5: {'title': '\\nActors & Models Jobs Open in Lahore 2021\\n', 'field': '\\nMedia Sector ', 'city': 'Lahore ', 'date': '01-Sep-2021', 'url': 'https://www.jobz.pk/actors-models-jobs-open-in-lahore-2021_jobs-444694.html'}, 6: {'title': '\\nMetropolitan Corporation MC Multan Jobs 2021 Legal Advisor\\n', 'field': '\\nKarachi Metropolitan Corporation KMC ', 'city': 'Multan ', 'date': '01-Sep-2021', 'url': 'https://www.jobz.pk/metropolitan-corporation-mc-multan-jobs-2021-legal-advisor_jobs-444693.html'}, 7: {'title': '\\nMuslim College of Science Multan Jobs 2021 for Lecturers\\n', 'field': '\\nEducation ', 'city': 'Multan ', 'date': '01-Sep-2021', 'url': 'https://www.jobz.pk/muslim-college-of-science-multan-jobs-2021-for-lecturers_jobs-444692.html'}, 8: {'title': '\\nPakistan Railway Freight Transportation Company Jobs 2021\\n', 'field': '\\nManagement ', 'city': 'Karachi ', 'date': '01-Sep-2021', 'url': 'https://www.jobz.pk/pakistan-railway-freight-transportation-company-jobs-2021_jobs-444691.html'}, 9: {'title': '\\nProject Manager & Research Associate Jobs 2021 in Islamabad\\n', 'field': '\\nNGO ', 'city': 'Islamabad ', 'date': '01-Sep-2021', 'url': 'https://www.jobz.pk/project-manager-research-associate-jobs-2021-in-islamabad_jobs-444690.html'}, 10: {'title': '\\nMinistry of Maritime Affairs MOMA Islamabad Jobs 2021\\n', 'field': '\\nMinistry of Maritime Affairs ', 'city': 'Islamabad ', 'date': '01-Sep-2021', 'url': 'https://www.jobz.pk/ministry-of-maritime-affairs-moma-islamabad-jobs-2021_jobs-444689.html'}, 11: {'title': '\\nPrincipal Jobs 2021 in District Public School DPS Hafizabad\\n', 'field': '\\nDistrict Public School ', 'city': 'Hafizabad ', 'date': '01-Sep-2021', 'url': 'https://www.jobz.pk/principal-jobs-2021-in-district-public-school-dps-hafizabad_jobs-444688.html'}, 12: {'title': '\\nOffice Secretary & Personal Assistant Jobs 2021 in Hyderabad\\n', 'field': '\\nHuman Resource ', 'city': 'Hyderabad ', 'date': '01-Sep-2021', 'url': 'https://www.jobz.pk/office-secretary-personal-assistant-jobs-2021-in-hyderabad_jobs-444687.html'}, 13: {'title': '\\nInspector General of Police Gilgit Baltistan Jobs 2021\\n', 'field': '\\nGilgit Baltistan GB Police ', 'city': 'Gilgit ', 'date': '01-Sep-2021', 'url': 'https://www.jobz.pk/inspector-general-of-police-gilgit-baltistan-jobs-2021_jobs-444686.html'}, 14: {'title': '\\nProvincial Headquarter Hospital PHQ Gilgit Jobs 2021\\n', 'field': '\\nHealth Department ', 'city': 'Gilgit ', 'date': '01-Sep-2021', 'url': 'https://www.jobz.pk/provincial-headquarter-hospital-phq-gilgit-jobs-2021_jobs-444685.html'}, 15: {'title': '\\nAccount Officer & Sales Executive Jobs 2021 in Lahore\\n', 'field': '\\nFreight Forwarding & Logistics Company ', 'city': 'Lahore ', 'date': '01-Sep-2021', 'url': 'https://www.jobz.pk/account-officer-sales-executive-jobs-2021-in-lahore_jobs-444684.html'}, 16: {'title': '\\nOffice Secretary & Client Service Representative Jobs 2021\\n', 'field': '\\nAdvertising Agency ', 'city': 'Karachi ', 'date': '01-Sep-2021', 'url': 'https://www.jobz.pk/office-secretary-client-service-representative-jobs-2021_jobs-444683.html'}, 17: {'title': '\\nBahauddin Zakariya University Multan BZU Jobs for Consultant\\n', 'field': '\\nBahauddin Zakariya University Multan BZU ', 'city': 'Multan ', 'date': '01-Sep-2021', 'url': 'https://www.jobz.pk/bahauddin-zakariya-university-multan-bzu-jobs-for-consultant_jobs-444682.html'}, 18: {'title': '\\nUET University Lahore Jobs 2021 for Teaching Fellow\\n', 'field': '\\nUniversity of Engineering and Technology UET ', 'city': 'Lahore ', 'date': '01-Sep-2021', 'url': 'https://www.jobz.pk/uet-university-lahore-jobs-2021-for-teaching-fellow_jobs-444681.html'}, 19: {'title': '\\nUniversity of Agriculture Faisalabad UAF Jobs for Fellowship\\n', 'field': '\\nUniversity of Agriculture UAF ', 'city': 'Faisalabad ', 'date': '01-Sep-2021', 'url': 'https://www.jobz.pk/university-of-agriculture-faisalabad-uaf-jobs-for-fellowship_jobs-444680.html'}, 20: {'title': '\\nUniversity of Sindh Jamshoro Jobs 2021 for Project Manager\\n', 'field': '\\nUniversity of Sindh ', 'city': 'Jamshoro ', 'date': '01-Sep-2021', 'url': 'https://www.jobz.pk/university-of-sindh-jamshoro-jobs-2021-for-project-manager_jobs-444679.html'}, 21: {'title': '\\nDistrict Head Quarter Hospital DHQ Mithi Jobs 2021 Plumber\\n', 'field': '\\nCivil Hospital ', 'city': 'Mithi ', 'date': '01-Sep-2021', 'url': 'https://www.jobz.pk/district-head-quarter-hospital-dhq-mithi-jobs-2021-plumber_jobs-444678.html'}, 22: {'title': '\\nPara Medical Institution Tharparkar Jobs 2021 for Drivers\\n', 'field': '\\nPara Medical Institute ', 'city': 'Tharparkar ', 'date': '01-Sep-2021', 'url': 'https://www.jobz.pk/para-medical-institution-tharparkar-jobs-2021-for-drivers_jobs-444677.html'}, 23: {'title': '\\nSocial Media Expert & IT Professional Jobs 2021 in Peshawar\\n', 'field': '\\nPrivate Company ', 'city': 'Peshawar ', 'date': '01-Sep-2021', 'url': 'https://www.jobz.pk/social-media-expert-it-professional-jobs-2021-in-peshawar_jobs-444676.html'}, 24: {'title': '\\nPromotion Officer & Site Supervisor Jobs 2021 in Multan\\n', 'field': '\\nPrivate Company ', 'city': 'Multan ', 'date': '01-Sep-2021', 'url': 'https://www.jobz.pk/promotion-officer-site-supervisor-jobs-2021-in-multan_jobs-444675.html'}, 25: {'title': '\\nPersonal Secretary & Call Representative Jobs 2021 in Lahore\\n', 'field': '\\nPrivate Company ', 'city': 'Lahore ', 'date': '01-Sep-2021', 'url': 'https://www.jobz.pk/personal-secretary-call-representative-jobs-2021-in-lahore_jobs-444674.html'}, 26: {'title': '\\nLocation Supervisor & Manager Operation Jobs 2021 in Karachi\\n', 'field': '\\nPrivate Company ', 'city': 'Karachi ', 'date': '01-Sep-2021', 'url': 'https://www.jobz.pk/location-supervisor-manager-operation-jobs-2021-in-karachi_jobs-444673.html'}, 27: {'title': '\\nAccounts Manager & Merchandiser Jobs 2021 in Islamabad\\n', 'field': '\\nPrivate Company ', 'city': 'Islamabad ', 'date': '01-Sep-2021', 'url': 'https://www.jobz.pk/accounts-manager-merchandiser-jobs-2021-in-islamabad_jobs-444672.html'}, 28: {'title': '\\nOffice Manager & Auditing Clerk Jobs 2021 in Faisalabad\\n', 'field': '\\nPrivate Company ', 'city': 'Faisalabad ', 'date': '01-Sep-2021', 'url': 'https://www.jobz.pk/office-manager-auditing-clerk-jobs-2021-in-faisalabad_jobs-444671.html'}, 29: {'title': '\\nBahria University Lahore Campus BULC Jobs 2021 for Engineer\\n', 'field': '\\nBahria University ', 'city': 'Lahore ', 'date': '01-Sep-2021', 'url': 'https://www.jobz.pk/bahria-university-lahore-campus-bulc-jobs-2021-for-engineer_jobs-444670.html'}, 30: {'title': '\\nUniversity of Lakki Marwat ULM Jobs 2021 for Professors\\n', 'field': '\\nThe University of Lakki Marwat ', 'city': 'Lakki Marwat ', 'date': '01-Sep-2021', 'url': 'https://www.jobz.pk/university-of-lakki-marwat-ulm-jobs-2021-for-professors_jobs-444669.html'}, 31: {'title': '\\nOffice Supervisor & Supervisor Jobs 2021 in Islamabad\\n', 'field': '\\nManagement ', 'city': 'Islamabad ', 'date': '01-Sep-2021', 'url': 'https://www.jobz.pk/office-supervisor-supervisor-jobs-2021-in-islamabad_jobs-444668.html'}, 32: {'title': '\\nAirport Loader & Packing Helper Jobs 2021 in UAE\\n', 'field': '\\nAirlines ', 'city': 'UAE ', 'date': '01-Sep-2021', 'url': 'https://www.jobz.pk/airport-loader-packing-helper-jobs-2021-in-uae_jobs-444667.html'}, 33: {'title': '\\nLifeguard & Security Guard Jobs 2021 in UAE\\n', 'field': '\\nHuman Resource ', 'city': 'UAE ', 'date': '01-Sep-2021', 'url': 'https://www.jobz.pk/lifeguard-security-guard-jobs-2021-in-uae_jobs-444666.html'}, 34: {'title': '\\nBus Driver & Heavy Mechanic Jobs 2021 in Saudi Arabia\\n', 'field': '\\nHuman Resource ', 'city': 'Saudi Arabia ', 'date': '01-Sep-2021', 'url': 'https://www.jobz.pk/bus-driver-heavy-mechanic-jobs-2021-in-saudi-arabia_jobs-444665.html'}, 35: {'title': '\\nTrailer Driver & Heavy Driver Jobs 2021 in Saudi Arabia\\n', 'field': '\\nDriving ', 'city': 'Saudi Arabia ', 'date': '01-Sep-2021', 'url': 'https://www.jobz.pk/trailer-driver-heavy-driver-jobs-2021-in-saudi-arabia_jobs-444664.html'}, 36: {'title': '\\nTaxi Driver & LTV Driver Jobs 2021 in Dubai\\n', 'field': '\\nDriving ', 'city': 'Dubai ', 'date': '01-Sep-2021', 'url': 'https://www.jobz.pk/taxi-driver-ltv-driver-jobs-2021-in-dubai_jobs-444663.html'}, 37: {'title': '\\nServices Institute of Medical Sciences SIMS Lahore Jobs 2021\\n', 'field': '\\nServices Institute of Medical Sciences ', 'city': 'Lahore ', 'date': '01-Sep-2021', 'url': 'https://www.jobz.pk/services-institute-of-medical-sciences-sims-lahore-jobs-2021_jobs-444662.html'}, 38: {'title': '\\nWomen Development Department Punjab Jobs 2021 Director\\n', 'field': '\\nWomen Development Department ', 'city': 'Lahore ', 'date': '01-Sep-2021', 'url': 'https://www.jobz.pk/women-development-department-punjab-jobs-2021-director_jobs-444661.html'}, 39: {'title': '\\nNational Logistics Cell NLC Rawalpindi Jobs 2021 Instructor\\n', 'field': '\\nNational Logistics Cell NLC ', 'city': 'Rawalpindi ', 'date': '01-Sep-2021', 'url': 'https://www.jobz.pk/national-logistics-cell-nlc-rawalpindi-jobs-2021-instructor_jobs-444660.html'}}\n"
     ]
    }
   ],
   "source": [
    "web = \"jobz.pk\"\n",
    "if web == 'jobz.pk':\n",
    "    print(jobz_pk())\n",
    "elif web == 'jobsalert':\n",
    "    print(jobsalert_pk())\n",
    "elif web == 'jobs.com.pk':\n",
    "    print(jobs_com_pk())\n",
    "elif web == 'pakistanjobsbank':\n",
    "    print(pakistanjobsbank_pk())"
   ]
  },
  {
   "cell_type": "code",
   "execution_count": null,
   "id": "18699be6",
   "metadata": {},
   "outputs": [],
   "source": []
  }
 ],
 "metadata": {
  "kernelspec": {
   "display_name": "Python 3 (ipykernel)",
   "language": "python",
   "name": "python3"
  },
  "language_info": {
   "codemirror_mode": {
    "name": "ipython",
    "version": 3
   },
   "file_extension": ".py",
   "mimetype": "text/x-python",
   "name": "python",
   "nbconvert_exporter": "python",
   "pygments_lexer": "ipython3",
   "version": "3.8.5"
  }
 },
 "nbformat": 4,
 "nbformat_minor": 5
}
