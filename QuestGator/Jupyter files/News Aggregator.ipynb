{
 "cells": [
  {
   "cell_type": "markdown",
   "id": "92d8a4c9",
   "metadata": {},
   "source": [
    "# News Aggregator"
   ]
  },
  {
   "cell_type": "markdown",
   "id": "551494f4",
   "metadata": {},
   "source": [
    "import bs4 and requests for scraping"
   ]
  },
  {
   "cell_type": "code",
   "execution_count": 5,
   "id": "fbe9c740",
   "metadata": {},
   "outputs": [],
   "source": [
    "import bs4 as BeautifulSoup"
   ]
  },
  {
   "cell_type": "code",
   "execution_count": 6,
   "id": "9a87a523",
   "metadata": {},
   "outputs": [],
   "source": [
    "import  requests"
   ]
  },
  {
   "cell_type": "markdown",
   "id": "607e274f",
   "metadata": {},
   "source": [
    "Scraping news from samma news website."
   ]
  },
  {
   "cell_type": "code",
   "execution_count": 1,
   "id": "5eac0e2e",
   "metadata": {},
   "outputs": [],
   "source": [
    "def samma():\n",
    "    import requests\n",
    "    from bs4 import BeautifulSoup\n",
    "\n",
    "    # GEtting news from Times of India\n",
    "    USER_AGENT = \"Mozilla/5.0 (X11; Linux x86_64) AppleWebKit/537.36 (KHTML, like Gecko) Chrome/44.0.2403.157 Safari/537.36\"\n",
    "    LANGUAGE = \"en-US,en;q=0.5\"\n",
    "    session = requests.Session()\n",
    "    session.headers['User-Agent'] = USER_AGENT\n",
    "    session.headers['Accept-Language'] = LANGUAGE\n",
    "    session.headers['Content-Language'] = LANGUAGE\n",
    "\n",
    "    name = 'samma'\n",
    "    url = 'https://www.samaa.tv/news/'\n",
    "    hello = session.get(url).content\n",
    "\n",
    "    soup = BeautifulSoup(hello, 'html.parser')\n",
    "    all = soup.findAll('div', {'class': 'col-md-12'})\n",
    "    extract = soup.findAll('div', {'class': 'categorycolumn'})\n",
    "\n",
    "    data = dict()\n",
    "    temp = dict()\n",
    "    counter = 0\n",
    "\n",
    "    a = all[0].findAll('div', {'class': 'col-md-6'})[1]\n",
    "\n",
    "    temp['url'] = a.findAll('p')[1].find('a')['href']\n",
    "    temp['title'] = a.findAll('p')[1].find('a')['title']\n",
    "    # temp['img'] = all[0].find('img')['src']\n",
    "    # print(temp['url'])\n",
    "    # temp['desc']=sammadic(temp['url'])\n",
    "    data[counter] = temp\n",
    "    counter = counter + 1\n",
    "\n",
    "    b = all[2].findAll('div', {'class': 'categorycolumn'})\n",
    "\n",
    "    for i in range(len(b)):\n",
    "        temp = dict()\n",
    "        temp['title'] = b[i].find('p').a['title']\n",
    "        temp['url'] = b[i].find('p').a['href']\n",
    "        # temp['img'] = b[i].find('img')['src']\n",
    "        # temp['desc'] = sammadic(temp['url'])\n",
    "        # print(temp)\n",
    "        data[counter] = temp\n",
    "        counter = counter + 1\n",
    "    x = 0\n",
    "    for i in extract:\n",
    "        if x<2:\n",
    "            x=x+1\n",
    "            continue\n",
    "        temp = dict()\n",
    "        temp['title'] = i.find('div', {'class': 'row'}).find('a').text\n",
    "        temp['url'] = i.find('a', {'class': 'mainheadings'})['href']\n",
    "        data[counter] = temp\n",
    "        counter = counter + 1\n",
    "\n",
    "\n",
    "\n",
    "    return data\n"
   ]
  },
  {
   "cell_type": "markdown",
   "id": "8dc47856",
   "metadata": {},
   "source": [
    "Scraping news from bbc news website."
   ]
  },
  {
   "cell_type": "code",
   "execution_count": 2,
   "id": "3ae274ca",
   "metadata": {},
   "outputs": [],
   "source": [
    "def bbc():\n",
    "    import requests\n",
    "    from bs4 import BeautifulSoup\n",
    "\n",
    "    # GEtting news from Times of India\n",
    "    USER_AGENT = \"Mozilla/5.0 (X11; Linux x86_64) AppleWebKit/537.36 (KHTML, like Gecko) Chrome/44.0.2403.157 Safari/537.36\"\n",
    "    LANGUAGE = \"en-US,en;q=0.5\"\n",
    "    session = requests.Session()\n",
    "    session.headers['User-Agent'] = USER_AGENT\n",
    "    session.headers['Accept-Language'] = LANGUAGE\n",
    "    session.headers['Content-Language'] = LANGUAGE\n",
    "    name = 'ary'\n",
    "    url = 'https://www.bbc.co.uk/search?q=pakistan'\n",
    "    url2 = url + '&page=2'\n",
    "    hello = session.get(url).content\n",
    "    hello2 = session.get(url2).content\n",
    "    data = dict()\n",
    "    counter = 0\n",
    "\n",
    "    #HTMLFileToBeOpened = open(\"bbc.html\", \"r\", encoding=\"utf8\")\n",
    "    #hello = HTMLFileToBeOpened.read()\n",
    "\n",
    "    soup = BeautifulSoup(hello, 'html.parser')\n",
    "    soup2 = BeautifulSoup(hello2, 'html.parser')\n",
    "\n",
    "    news =  soup.findAll(\"a\",{'class':'e1f5wbog0'})\n",
    "    news2 = soup2.findAll(\"a\", {'class': 'e1f5wbog0'})\n",
    "\n",
    "    for i in news:\n",
    "        temp = dict()\n",
    "        temp['title'] = i.text\n",
    "        temp['url'] = i['href']\n",
    "        data[counter] = temp\n",
    "        counter = counter + 1\n",
    "        print(temp)\n",
    "\n",
    "    for i in news2:\n",
    "        temp = dict()\n",
    "        temp['title'] = i.text\n",
    "        temp['url'] = i['href']\n",
    "        data[counter] = temp\n",
    "        counter = counter + 1\n",
    "        print(temp)\n",
    "\n",
    "\n",
    "\n",
    "\n",
    "    return data\n"
   ]
  },
  {
   "cell_type": "markdown",
   "id": "1b00601a",
   "metadata": {},
   "source": [
    "Scraping news from ary news website."
   ]
  },
  {
   "cell_type": "code",
   "execution_count": 3,
   "id": "7ae1ae7b",
   "metadata": {},
   "outputs": [],
   "source": [
    "def ary():\n",
    "    import requests\n",
    "    from bs4 import BeautifulSoup\n",
    "\n",
    "    # GEtting news from Times of India\n",
    "    USER_AGENT = \"Mozilla/5.0 (X11; Linux x86_64) AppleWebKit/537.36 (KHTML, like Gecko) Chrome/44.0.2403.157 Safari/537.36\"\n",
    "    LANGUAGE = \"en-US,en;q=0.5\"\n",
    "    session = requests.Session()\n",
    "    session.headers['User-Agent'] = USER_AGENT\n",
    "    session.headers['Accept-Language'] = LANGUAGE\n",
    "    session.headers['Content-Language'] = LANGUAGE\n",
    "    name = 'ary'\n",
    "    url = 'https://arynews.tv/en/category/pakistan/'\n",
    "    hello = session.get(url).content\n",
    "\n",
    "    #FOR OFFLINE SCRAPING\n",
    "    #HTMLFileToBeOpened = open(\"ARYNews.html\", \"r\")\n",
    "    #hello = HTMLFileToBeOpened.read()\n",
    "\n",
    "    data = dict()\n",
    "    counter  = 0\n",
    "\n",
    "    soup = BeautifulSoup(hello, 'html.parser')\n",
    "    headings = soup.findAll('h3',{'class':'entry-title'})\n",
    "\n",
    "    for i in headings:\n",
    "        temp = dict()\n",
    "        temp['url']=i.a['href']\n",
    "        temp['title']=i.a['title'].replace('â€™',\"'\").replace('â€˜',\"'\").replace('â€Ž',\" \")\n",
    "        data[counter]=temp\n",
    "        counter = counter + 1\n",
    "\n",
    "\n",
    "    return data\n"
   ]
  },
  {
   "cell_type": "markdown",
   "id": "23effe3b",
   "metadata": {},
   "source": [
    "print data from different news websites"
   ]
  },
  {
   "cell_type": "code",
   "execution_count": 4,
   "id": "9a56105a",
   "metadata": {},
   "outputs": [
    {
     "name": "stdout",
     "output_type": "stream",
     "text": [
      "{0: {'url': 'https://arynews.tv/lawmakers-oath-60-days-new-ordinance/', 'title': 'Now lawmakers have to take oath within 60 days under new ordinance'}, 1: {'url': 'https://arynews.tv/larkana-students-biryani-sellers-earn-livelihood/', 'title': 'WATCH: Engineering graduates become biryani sellers to earn livelihood!'}, 2: {'url': 'https://arynews.tv/hurriyat-leader-syed-ali-gilani-passes-away-in-occupied-kashmir/', 'title': 'Hurriyat leader Syed Ali Gilani passes away'}, 3: {'url': 'https://arynews.tv/shah-mahmood-qureshi-canadian-counterpart-discuss-afghan-situation/', 'title': 'FM Qureshi urges Canada to ease visa rules for Pakistani students'}, 4: {'url': 'https://arynews.tv/angry-karachi-traders-hunger-strike/', 'title': 'Angry Karachi traders to hold hunger strike tomorrow against lockdown restrictions'}, 5: {'url': 'https://arynews.tv/mohsin-dawar-parts-ways-with-ptm-forms-new-political-party/', 'title': 'Mohsin Dawar parts ways with PTM, forms new political party'}}\n"
     ]
    }
   ],
   "source": [
    "\n",
    "web = \"arynews\"\n",
    "\n",
    "if web == 'arynews':\n",
    "    print(ary())\n",
    "elif web == 'sammanews':\n",
    "    print(samma())\n",
    "elif web == 'bbcnews':\n",
    "    print(bbc())\n",
    "    "
   ]
  },
  {
   "cell_type": "code",
   "execution_count": null,
   "id": "8542679a",
   "metadata": {},
   "outputs": [],
   "source": []
  }
 ],
 "metadata": {
  "kernelspec": {
   "display_name": "Python 3 (ipykernel)",
   "language": "python",
   "name": "python3"
  },
  "language_info": {
   "codemirror_mode": {
    "name": "ipython",
    "version": 3
   },
   "file_extension": ".py",
   "mimetype": "text/x-python",
   "name": "python",
   "nbconvert_exporter": "python",
   "pygments_lexer": "ipython3",
   "version": "3.8.5"
  }
 },
 "nbformat": 4,
 "nbformat_minor": 5
}
